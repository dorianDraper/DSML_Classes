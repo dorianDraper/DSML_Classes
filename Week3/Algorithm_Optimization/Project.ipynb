{
 "cells": [
  {
   "cell_type": "markdown",
   "id": "f3daaee3-7d07-4ef4-a957-f706d6ff1309",
   "metadata": {},
   "source": [
    "<span style=\"font-family:Comic Sans MS; color:blue; font-size: 30px\">Algorithm Optimization Project Machine Learning</span>\r\n",
    "\r\n"
   ]
  },
  {
   "cell_type": "markdown",
   "id": "3b66b0c0-308d-4e58-ad87-08a98e2d0f68",
   "metadata": {},
   "source": [
    "#### Exercise 1: Code Optimization for Text Processing\n",
    "We are provided with a text processing code that performs the following operations:\n",
    "- Convert all text to lowercase\n",
    "- Remove punctuation marks\n",
    "- Count the frequency of each word\n",
    "- Show the 5 most common words\n",
    "\n",
    "The code works but it is inefficient and can be optimized. The task is to identify areas that can be improved and rewrite those parts to make it more efficient and readable"
   ]
  },
  {
   "cell_type": "code",
   "execution_count": 3,
   "id": "fe35c31f-1c55-474b-b283-a566bd540e6d",
   "metadata": {},
   "outputs": [
    {
     "name": "stdout",
     "output_type": "stream",
     "text": [
      "'the': 5 times\n",
      "'of': 3 times\n",
      "'in': 2 times\n",
      "'a': 2 times\n",
      "'she': 2 times\n"
     ]
    }
   ],
   "source": [
    "import numpy as np\n",
    "import string\n",
    "\n",
    "def process_text(text):\n",
    "    # Text to lowercase\n",
    "    text = text.lower()\n",
    "\n",
    "    # Remove punctuation\n",
    "    for p in string.punctuation:\n",
    "        text = text.replace(p, \"\")\n",
    "\n",
    "    # Split text into words\n",
    "    words = text.split()\n",
    "\n",
    "    # Count frecuencies\n",
    "    frequencies = {}\n",
    "    for w in words:\n",
    "        if w in frequencies:\n",
    "            frequencies[w] += 1\n",
    "        else:\n",
    "            frequencies[w] = 1\n",
    "\n",
    "    sorted_frequencies = sorted(frequencies.items(), key = lambda x: x[1], reverse = True)\n",
    "\n",
    "    # Get 5 most-common words\n",
    "    top_5 = sorted_frequencies[:5]\n",
    "    \n",
    "    for w, frequency in top_5:\n",
    "        print(f\"'{w}': {frequency} times\")\n",
    "\n",
    "text = \"\"\"\n",
    "    In the heart of the city, Emily discovered a quaint little café, hidden away from the bustling streets. \n",
    "    The aroma of freshly baked pastries wafted through the air, drawing in passersby. As she sipped on her latte, \n",
    "    she noticed an old bookshelf filled with classics, creating a cozy atmosphere that made her lose track of time.\n",
    "\"\"\"\n",
    "process_text(text)"
   ]
  },
  {
   "cell_type": "markdown",
   "id": "006caca9-ef60-4b1f-96f4-1588a29f5186",
   "metadata": {},
   "source": [
    "There are points that can be optmized: removal of punctuation marks using; frequency count; sort and select; and modularity.\n",
    "A way to optimize the above code can be the following:"
   ]
  },
  {
   "cell_type": "code",
   "execution_count": 4,
   "id": "b41d61da-8da1-4091-b587-a3740f86a56b",
   "metadata": {},
   "outputs": [
    {
     "name": "stdout",
     "output_type": "stream",
     "text": [
      "'the': 5 times\n",
      "'of': 3 times\n",
      "'a': 2 times\n",
      "'she': 2 times\n",
      "'in': 2 times\n"
     ]
    }
   ],
   "source": [
    "def process_text_optimized(text):\n",
    "    text = text.lower()                                                 # Text to lowercase\n",
    "    text = text.translate(str.maketrans('', '', string.punctuation))    # Remove punctuation \n",
    "    words = np.array(text.split())                                      # Split text into words\n",
    "    unique, counts = np.unique(words, return_counts=True)               # Count frequencies using numpy arrays and numpy functions\n",
    "    sorted_indices = np.argsort(-counts)                                # Sort the frequencies in descending order\n",
    "    top_5 = unique[sorted_indices[:5]]                                  # Get 5 most-common words\n",
    "    counts_top_5 = counts[sorted_indices[:5]]                           # Get the frequencies of the 5 most-common words\n",
    "    for w, frequency in zip(top_5, counts_top_5):                       # Print the 5 most-common words and their frequencies\n",
    "        print(f\"'{w}': {frequency} times\")  \n",
    "\n",
    "process_text_optimized(text)"
   ]
  },
  {
   "cell_type": "markdown",
   "id": "e48a76d0-a60f-41ad-93a1-09a8afd7f4d0",
   "metadata": {},
   "source": [
    "<div class=\"alert alert-block alert-success\">\n",
    "    <h4>Exercise 1 - Optimized Code</h4>\n",
    "    <p>\n",
    "        The new code follows the following rules for being optimized:\n",
    "        <ul>\n",
    "            <li>The code is more efficient and concise and produces the same output as the original cose</li>\n",
    "            <li>It uses numpy and string libraries and other python data structures</li>\n",
    "            <li>It does not use replace() nor if statements</li>\n",
    "            <li>Also, new code is 11 lines versus 16 of the original code</li>\n",
    "        </ul>\n",
    "    </p>\n",
    "    <p>\n",
    "        The new code uses numpy library for efficient computation and specifically the following:\n",
    "        <ol>\n",
    "            <li>The function first uses lower() method to covert the entire text to lowercase to ensure that words are not counted as different just because they appear in different cases.</li>\n",
    "            <li>Next, it removes all punctuation from the text using the translate() method and the maketrans() function from the str class. The maketrans() creates a translation table which maps every character in the third argument (all punctuation char in this case) to None.</li>\n",
    "            <li>The cleaned text is then split into individual words using the split() method which splits a string into a list of words based on whitespace. The resulting list of words is converted to a numpy array for efficient processing in the following steps.</li>\n",
    "            <li>The unique() function from numpy is used to find the unique words in the array and their counts. The return_counts=True argument makes function to return a second array containing the counts of each unique word.</li>\n",
    "            <li>The argsort() function is then used to get the indices that would sort the counts arrays in descending order, this is done by passing -counts to the function which sorts the counts in ascending order of their negated values, effectively giving the indices for a descending sort.</li>\n",
    "            <li>The sorted indices are used to index the unique words and their counts, getting the five most common words and their counts.</li>\n",
    "            <li>Finally, the function prints each of the five most common words and their counts using a for loop and an f-string for formatting. The zip() function is used to iterate over the words and their counts in pairs.</li>\n",
    "        </ol>\n",
    "    </p>\r",
    "\r\n",
    "</div>"
   ]
  },
  {
   "cell_type": "markdown",
   "id": "ad2e42e3-a1a5-492f-a3d4-bd7ec7540470",
   "metadata": {},
   "source": [
    "#### Exercise 2: Code Optimization for List Processing\n",
    "The code now produces the following operations on a list of numbers:\n",
    "- Filter out even numbers\n",
    "- Duplicate each number\n",
    "- Add all numbers\n",
    "- Check if the result is prime number\n",
    "\n",
    "The code achieves its goal but may be inefficient. We have to identify and improve parts of the code to increase its efficiency."
   ]
  },
  {
   "cell_type": "code",
   "execution_count": 5,
   "id": "0f073b16-45e0-4b74-9ca3-f2e4cff1faf4",
   "metadata": {},
   "outputs": [
    {
     "name": "stdout",
     "output_type": "stream",
     "text": [
      "Result: 60, ¿Prime? No\n"
     ]
    }
   ],
   "source": [
    "import math\n",
    "\n",
    "def is_prime(n):\n",
    "    if n <= 1:\n",
    "        return False\n",
    "    for i in range(2, int(math.sqrt(n)) + 1):\n",
    "        if n % i == 0:\n",
    "            return False\n",
    "    return True\n",
    "\n",
    "def process_list(list_):\n",
    "    filtered_list = []\n",
    "    for num in list_:\n",
    "        if num % 2 == 0:\n",
    "            filtered_list.append(num)\n",
    "    \n",
    "    duplicate_list = []\n",
    "    for num in filtered_list:\n",
    "        duplicate_list.append(num * 2)\n",
    "        \n",
    "    sum = 0\n",
    "    for num in duplicate_list:\n",
    "        sum += num\n",
    "\n",
    "    prime = is_prime(sum)\n",
    "    \n",
    "    return sum, prime\n",
    "\n",
    "list_ = [1, 2, 3, 4, 5, 6, 7, 8, 9, 10]\n",
    "result, result_prime = process_list(list_)\n",
    "print(f\"Result: {result}, ¿Prime? {'Yes' if result_prime else 'No'}\")"
   ]
  },
  {
   "cell_type": "markdown",
   "id": "76305a11-80f9-4e48-9a14-da290f1dc583",
   "metadata": {},
   "source": [
    "Points to optmize are: Filter numbers; duplication; summing; function is_prime; and modularity. A way to optimize the original code could be the following:"
   ]
  },
  {
   "cell_type": "code",
   "execution_count": 6,
   "id": "cfcea5b4-f3a7-4d22-a13a-109c43059be8",
   "metadata": {},
   "outputs": [
    {
     "name": "stdout",
     "output_type": "stream",
     "text": [
      "Result: 60, ¿Prime? No\n"
     ]
    }
   ],
   "source": [
    "list_ = [1, 2, 3, 4, 5, 6, 7, 8, 9, 10]\n",
    "\n",
    "def process_list_optimized(list_):\n",
    "    list_ = np.array(list_)\n",
    "    filtered_list = list_[list_ % 2 == 0]\n",
    "    duplicate_list = 2 * filtered_list\n",
    "    sum = np.sum(duplicate_list)\n",
    "    prime = is_prime(sum)\n",
    "    return sum, prime\n",
    "\n",
    "result, result_prime = process_list_optimized(list_)\n",
    "print(f\"Result: {result}, ¿Prime? {'Yes' if result_prime else 'No'}\")"
   ]
  },
  {
   "cell_type": "markdown",
   "id": "6c3dfba5-31ee-4429-9a5e-581310586498",
   "metadata": {},
   "source": [
    "<div class=\"alert alert-block alert-success\">\n",
    "    <h4>Exercise 2 - Optimized Code</h4>\n",
    "    <p>\n",
    "        The new code follows the following rules for being optimized:\n",
    "        <ul>\n",
    "            <li>The code is more efficient and concise and produces the same output as the original cose</li>\n",
    "            <li>It uses numpy and string libraries and other python data structures</li>\n",
    "            <li>Also, new code is 10 lines versus 23 of the original code</li>\n",
    "        </ul>\n",
    "    </p>\n",
    "    <p>\n",
    "        The new code uses numpy library for efficient computation. The function returns two values: the sum of the doubled even numbers in the list list_, and a boolean indicating whether this sum is a prime number:\n",
    "        <ol>\n",
    "            <li>The function starts by converting the input list to a numpy array for efficient computation. It then filters this array to keep only the even numbers by using the modulo operator % to get the remainder of each number when divided by 2 and checking if this remainder is 0 (which is true for even numbers).</li>\n",
    "            <li>Next, the function creates a new array duplicate_list that contains each number in filtered_list multiplied by 2. The np.sum function is then used to calculate the sum of all numbers in duplicate_list.</li>\n",
    "            <li>The function then checks if this sum is a prime number by calling the is_prime function (this checks if a number is prime by checking if it has any divisors other than 1 and itself).</li>\n",
    "            <li>Finally, the function returns the calculated sum and the result of the prime check.</li>\n",
    "            <li>After defining the function, the code calls it with list_ as the argument and unpacks the returned tuple into the variables result and result_prime. It then print these results, with result_prime being printed as 'Yes' if it is True and 'No' otherwise. This is done using a conditional expression (aka ternary operator) inside the f-string.</li>        \n",
    "        </ol>\n",
    "    </p>\n",
    "\n",
    "</div>"
   ]
  }
 ],
 "metadata": {
  "kernelspec": {
   "display_name": "Python 3 (ipykernel)",
   "language": "python",
   "name": "python3"
  },
  "language_info": {
   "codemirror_mode": {
    "name": "ipython",
    "version": 3
   },
   "file_extension": ".py",
   "mimetype": "text/x-python",
   "name": "python",
   "nbconvert_exporter": "python",
   "pygments_lexer": "ipython3",
   "version": "3.11.3"
  }
 },
 "nbformat": 4,
 "nbformat_minor": 5
}
