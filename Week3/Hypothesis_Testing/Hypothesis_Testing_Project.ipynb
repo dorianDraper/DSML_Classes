{
 "cells": [
  {
   "cell_type": "markdown",
   "id": "66996faa-13b5-416e-a907-d8a73abe4fdd",
   "metadata": {},
   "source": [
    "<span style=\"font-family:Comic Sans MS; color:blue; font-size: 30px\">Probability Exercises Project in Python</span>\n",
    "\n",
    "<span style=\"font-family:Comic Sans MS; color:#FF00FF; font-size: 24px\">Hypothesis Testing</span>\r\n"
   ]
  },
  {
   "cell_type": "markdown",
   "id": "4c7f571e-3b97-47a1-a473-ae6f67b2e154",
   "metadata": {},
   "source": [
    "#### Exercise 1\n",
    "We want to see if there is a significant difference in weight loss between two different types of diets: diet_1 and diet_2. With that data we want to answer the question: is there a significant difference in average weight loss between people who followed the first diet and those who followed the second diet?\n",
    "\n",
    "State the hypotheses: null and alternative hypothesis:\n",
    "\n",
    "- Null hypothesis: the average weight loss is the same for both diets\n",
    "- Alternative hypothesis: the average weight loss is different for both diets\n",
    "\n",
    "Perform the test to test the hypothesis and analyze the conclusions:"
   ]
  },
  {
   "cell_type": "code",
   "execution_count": 8,
   "id": "5965d833-5e2c-4b69-baba-d7e3981f9066",
   "metadata": {},
   "outputs": [
    {
     "name": "stdout",
     "output_type": "stream",
     "text": [
      "t-value: -3.5383407969933938\n",
      "p-value: 0.004083270191713912\n",
      " \n",
      "Reject the null hypothesis\n",
      "Accept the alternative hypothesis\n",
      "None\n"
     ]
    }
   ],
   "source": [
    "import numpy as np\n",
    "import scipy.stats as stats\n",
    "\n",
    "diet_1 = [2.0, 2.5, 3.0, 2.8, 2.3, 2.7, 2.5]\n",
    "diet_2 = [3.0, 3.2, 3.1, 2.9, 2.8, 3.0, 3.2]\n",
    "\n",
    "t_value, p_value = stats.ttest_ind(diet_1, diet_2)\n",
    "\n",
    "print(f\"t-value: {t_value:}\")\n",
    "print(f\"p-value: {p_value:}\")\n",
    "\n",
    "print(' ')\n",
    "# From the above we can define a function to extract conclusions about the hypothesis test:\n",
    "# the significance level (alpha) is 0.05\n",
    "def hypothesis_test(p_value, alpha):\n",
    "    if p_value < alpha:\n",
    "        print('Reject the null hypothesis') # we reject the null hypothesis\n",
    "        print('Accept the alternative hypothesis') # we accept the alternative hypothesis\n",
    "    else:\n",
    "        print('Fail to reject the null hypothesis')\n",
    "        print('Accept the null hypothesis') # we accept the null hypothesis\n",
    "\n",
    "print(hypothesis_test(p_value, 0.05))"
   ]
  },
  {
   "cell_type": "markdown",
   "id": "62260e5f-d2f1-4b0a-9752-206fdb65c5a6",
   "metadata": {},
   "source": [
    "<div class=\"alert alert-block alert-success\">\r",
    "    <h4>Conclusions</h4>\n",
    "    <p>\n",
    "        The p-value is less than the significance leve, therefore we can conclude that there is a significant difference in average weight loss between people who followed diet_1 and people who followed diet_2.\n",
    "    </p>\n",
    "\r\n",
    "</div>"
   ]
  },
  {
   "cell_type": "markdown",
   "id": "82d216aa-42cf-4d7e-a542-d6069e317940",
   "metadata": {},
   "source": [
    "#### Exercise 2\n",
    " We want to see if there is a significant difference in average corn yield between three types of fertilizers to determine if one is superior in terms of corn production.\n",
    "\n",
    "State the hypothesis:\n",
    "- Null hypothesis: The corn yield averages of the three fertilizers are equal.\n",
    "- Alternative hypothesis: At least one of the fertilizers corn yield averages is different.\n",
    "\n",
    "Perform ANOVA test, analyze the conclusions and determine if one fertilizer is better."
   ]
  },
  {
   "cell_type": "code",
   "execution_count": 9,
   "id": "7726ea1e-7c41-474b-b63f-3ee8198fc89a",
   "metadata": {},
   "outputs": [
    {
     "name": "stdout",
     "output_type": "stream",
     "text": [
      "f-value: 20.315789473684188\n",
      "p-value: 0.00014047824793190475\n",
      " \n",
      "Reject the null hypothesis\n",
      "Accept the alternative hypothesis\n",
      "None\n"
     ]
    }
   ],
   "source": [
    "fertilizer_1 = [20, 21, 20, 19, 20]\n",
    "fertilizer_2 = [22, 21, 23, 22, 21]\n",
    "fertilizer_3 = [24, 23, 22, 23, 24]\n",
    "\n",
    "# perform a one-way ANOVA test\n",
    "f_value, p_value = stats.f_oneway(fertilizer_1, fertilizer_2, fertilizer_3)\n",
    "\n",
    "print(f\"f-value: {f_value}\")\n",
    "print(f\"p-value: {p_value}\")\n",
    "\n",
    "print(' ')\n",
    "\n",
    "# From the above we can define a function to extract conclusions about the hypothesis test:\n",
    "# the significance level (alpha) is 0.05\n",
    "def hypothesis_test(p_value, alpha):\n",
    "    if p_value < alpha:\n",
    "        print('Reject the null hypothesis') \n",
    "        print('Accept the alternative hypothesis') \n",
    "    else:\n",
    "        print('Fail to reject the null hypothesis')\n",
    "        print('Accept the null hypothesis') \n",
    "\n",
    "print(hypothesis_test(p_value, 0.05))"
   ]
  },
  {
   "cell_type": "markdown",
   "id": "90ac35da-0e26-4059-af45-6909c9d42229",
   "metadata": {},
   "source": [
    "<div class=\"alert alert-block alert-success\">\n",
    "    <h4>Conclusions</h4>\n",
    "    <p>\n",
    "        The p-value is less than the significance level, we reject the null hypothesis and accept the alternative hypothesis: the average corn yield is different for at least one of the fertilizers. We can conclude that there is a significant difference in average corn yield between the three types of fertilizers\n",
    "    </p>\n",
    "</div>"
   ]
  },
  {
   "cell_type": "code",
   "execution_count": 10,
   "id": "de5bc0a1-8194-43c4-8401-9e4b8f47b813",
   "metadata": {},
   "outputs": [
    {
     "name": "stdout",
     "output_type": "stream",
     "text": [
      "Multiple Comparison of Means - Tukey HSD, FWER=0.05\n",
      "==================================================\n",
      "group1 group2 meandiff p-adj  lower  upper  reject\n",
      "--------------------------------------------------\n",
      "    F1     F2      1.8 0.0099 0.4572 3.1428   True\n",
      "    F1     F3      3.2 0.0001 1.8572 4.5428   True\n",
      "    F2     F3      1.4 0.0409 0.0572 2.7428   True\n",
      "--------------------------------------------------\n"
     ]
    }
   ],
   "source": [
    "# we want to determine if one is superior in terms of corn production for which we will use a tukey test.\n",
    "from statsmodels.stats.multicomp import pairwise_tukeyhsd\n",
    "\n",
    "fertilizer_1 = [20, 21, 20, 19, 20]\n",
    "fertilizer_2 = [22, 21, 23, 22, 21]\n",
    "fertilizer_3 = [24, 23, 22, 23, 24]\n",
    "\n",
    "data = np.concatenate([fertilizer_1, fertilizer_2, fertilizer_3])\n",
    "labels = [\"F1\"] * 5 + [\"F2\"] * 5 + [\"F3\"] * 5\n",
    "\n",
    "result = pairwise_tukeyhsd(data, labels, alpha = 0.05)\n",
    "print(result)"
   ]
  },
  {
   "cell_type": "markdown",
   "id": "a3648122-a6e4-4c51-b98f-bdd058b5b9b6",
   "metadata": {},
   "source": [
    "<div class=\"alert alert-block alert-success\">\r",
    "    <h4>Conclusions</h4>\n",
    "    <p>\n",
    "        According to the results, we can determine that the Fertilizer3 is the best due to it has the highest average. However, the difference is not significant between the three types of fertilizers.\n",
    "    </p>\n",
    "\r\n",
    "</div>"
   ]
  },
  {
   "cell_type": "markdown",
   "id": "0bdc1d21-46e8-4684-8d4f-1fe6c3b620cd",
   "metadata": {},
   "source": [
    "<div class=\"alert alert-block alert-info\">\r",
    "    <h4>Tukey's Honest Significant Difference (HSD)</h4>\n",
    "    <p>\n",
    "        We perform the statistical analysis on the effects of the 3 fertilizers using a Tukey's HSD test, the code is the following:\n",
    "        <ol>\n",
    "            <li>The np.concatenate function is used to combine the three lists into a single numpy array named data. This array contains all the plant growth measurements in the order of the fertilizers.</li>\n",
    "            <li>The labels list is created to correspond the data array. It contains \"F1\", \"F2\", and \"F3\" for the measurements from the three fertilizers.</li>\n",
    "            <li>The Tukey's HSD test is then performed using the pairwise_tukeyhsd function from the statsmodels library. This function takes three arguments: the data array, the labels array, and the significance level alpha. The test will compare the means of the plant growth measurements for each pair of fertilizers and determine if the differences are statistically significant at the 5% level.</li>\n",
    "            <li>The result of the test is stored in result variable. This result will show the pairwise comparisons, the difference in means, the confidence interval, and whether the difference is significant at the 5% level.</li>\n",
    "        </ol>\n",
    "    </p>\n",
    ".</div>"
   ]
  }
 ],
 "metadata": {
  "kernelspec": {
   "display_name": "Python 3 (ipykernel)",
   "language": "python",
   "name": "python3"
  },
  "language_info": {
   "codemirror_mode": {
    "name": "ipython",
    "version": 3
   },
   "file_extension": ".py",
   "mimetype": "text/x-python",
   "name": "python",
   "nbconvert_exporter": "python",
   "pygments_lexer": "ipython3",
   "version": "3.11.3"
  }
 },
 "nbformat": 4,
 "nbformat_minor": 5
}
