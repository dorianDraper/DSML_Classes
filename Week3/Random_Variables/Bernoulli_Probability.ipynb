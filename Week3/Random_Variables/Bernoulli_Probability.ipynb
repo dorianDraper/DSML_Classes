{
 "cells": [
  {
   "cell_type": "markdown",
   "id": "69a9ebcc-d9b7-48a0-baa8-c87c270c622d",
   "metadata": {},
   "source": [
    "<span style=\"font-family:Comic Sans MS; color:red; font-size: 30px\">Bernoulli Probability</span>\n",
    "\n",
    "### Exercise 0: Function to calculate the probability of a Bernoulli random variable (0 or 1) given a probability p of success (1) and a probability 1-p of failure (0) "
   ]
  },
  {
   "cell_type": "code",
   "execution_count": 3,
   "id": "fe87364d-b2ce-4dc2-828f-7e29ba41a638",
   "metadata": {},
   "outputs": [
    {
     "name": "stdout",
     "output_type": "stream",
     "text": [
      "0.6\n",
      "0.4\n"
     ]
    }
   ],
   "source": [
    "import numpy as np\n",
    "import matplotlib.pyplot as plt\n",
    "import statistics as stats\n",
    "from scipy.stats import norm\n",
    "import math as m\n",
    "# example for an unfair coin where heads is 1 and tails is 0\n",
    "def bernoulli(k,p):             # k is the value of the random variable (0 or 1), p is the probability of success\n",
    "    return p*k + (1-p)*(1-k)\n",
    "\n",
    "print(bernoulli(0, 0.4))\n",
    "print(bernoulli(1, 0.4))"
   ]
  },
  {
   "cell_type": "markdown",
   "id": "5cbe8462-3d00-4667-915f-677a2cd49dca",
   "metadata": {},
   "source": [
    "### Exercise 1: Suppose a bag contains 8 red marbles and 3 blue marbles:\n",
    "- What ist the probability of drawing a red marble\n",
    "- And a blue marble?"
   ]
  },
  {
   "cell_type": "code",
   "execution_count": 4,
   "id": "3bb60c0f-6f48-4b9e-9d8d-d6bc93bd386e",
   "metadata": {},
   "outputs": [
    {
     "name": "stdout",
     "output_type": "stream",
     "text": [
      "The probability of drawing a red marble is 0.73\n",
      "The probability of drawing a blue marble is 0.27\n"
     ]
    }
   ],
   "source": [
    "# probability = number of successful outcomes / total number of outcomes\n",
    "# In probability theory, the probability of an event is defined as the number of ways the event can occur divided by the total number of outcomes. \n",
    "# In this case, the event is drawing a red or yellow marble, and the total number of outcomes is the total number of marbles.\n",
    "red = 8\n",
    "blue = 3\n",
    "total = red + blue\n",
    "probability = red / total    # probability of drawing a red marble by dividing by total\n",
    "print(f'The probability of drawing a red marble is {probability:.2f}')\n",
    "# The `:.2f` inside the curly braces in the f-string is a format specification for the variable it contains.\n",
    "# It means that the variable should be formatted as a floating-point number with 2 digits after the decimal point.\n",
    "probability_blue = blue / total\n",
    "print(f'The probability of drawing a blue marble is {probability_blue:.2f}')"
   ]
  },
  {
   "cell_type": "markdown",
   "id": "c2e827c1-707d-48d0-9928-7799e7ee239e",
   "metadata": {},
   "source": [
    "### Exercise 2: Suppose a bag contains 4 red marbles, 7 yellow marbles, and 2 blue marbles:\n",
    "- What is the probability of drawing a red or yellow marble?"
   ]
  },
  {
   "cell_type": "code",
   "execution_count": 5,
   "id": "09c61618-fd3e-4b31-8ced-d1e62db2c9ef",
   "metadata": {},
   "outputs": [
    {
     "name": "stdout",
     "output_type": "stream",
     "text": [
      "The probability of drawing a red or yellow marble is 0.85\n"
     ]
    }
   ],
   "source": [
    "red = 4\n",
    "yellow = 7\n",
    "blue = 2\n",
    "total = red + yellow + blue\n",
    "probability = (red + yellow) / total\n",
    "print(f'The probability of drawing a red or yellow marble is {probability:.2f}')"
   ]
  },
  {
   "cell_type": "markdown",
   "id": "8d172db4-7d77-4eb4-8f2b-62cb08c5674c",
   "metadata": {},
   "source": [
    "- What is the probability of drawing a blue marble?"
   ]
  },
  {
   "cell_type": "code",
   "execution_count": 6,
   "id": "745a6870-1dbd-4bc8-8d14-6f6fd2a9206b",
   "metadata": {},
   "outputs": [
    {
     "name": "stdout",
     "output_type": "stream",
     "text": [
      "The probability of drawing a blue marble is 0.15\n"
     ]
    }
   ],
   "source": [
    "probability = blue / total\n",
    "print(f'The probability of drawing a blue marble is {probability:.2f}')"
   ]
  },
  {
   "cell_type": "markdown",
   "id": "2bf8d10f-6ae2-4301-8fbd-b4cceaf4c6a9",
   "metadata": {},
   "source": [
    "- How many ways can you select two colors of marbles from the bag?"
   ]
  },
  {
   "cell_type": "code",
   "execution_count": 7,
   "id": "9cebd9d7-a88b-4e52-b5b5-fcf38f053cdf",
   "metadata": {},
   "outputs": [
    {
     "name": "stdout",
     "output_type": "stream",
     "text": [
      "There are 78.0 ways to select two colors of marbles from the bag\n"
     ]
    }
   ],
   "source": [
    "# combinations = n! / (r!(n-r)!) this is explained in the green box below\n",
    "n = total\n",
    "r = 2\n",
    "combinations = m.factorial(n) / (m.factorial(r) * m.factorial(n-r))\n",
    "print(f'There are {combinations} ways to select two colors of marbles from the bag')"
   ]
  },
  {
   "cell_type": "markdown",
   "id": "085178e5-6fae-47a6-bc22-3c6ac75510b8",
   "metadata": {},
   "source": [
    "<div class=\"alert alert-block alert-success\">\r",
    "    <p>\n",
    "        This is the mathematical formula for calculating combinations which is a concept in combinatorics. The formula n! / (r! (n-r) !c) is used to calculate the number of ways to choose 'r' elements from a set of 'n' elements without regard to the order of selection. This is often referred to as \"n choose r\" or the binomial coefficient. Here is what each part of the formula means:\n",
    "        <ul>\n",
    "            <li>'n!' is the factorial of 'n' which is the product of all positive integers up to 'n'</li>\n",
    "            <li>'r!' is the factorial of 'r' which is the product of all positive integers up to 'r'</li>\n",
    "            <li>'(n-r)!' is the factorial of '(n-r)' which is the product of all positive integers up to '(n-r)'</li>\n",
    "        </ul>\n",
    "        The entire formula 'n!/(r!(n-r)!)' calculates the number of combinations by dividing the factorial of the total number of elements 'n' by the product of the factorial of the number of elements to choose 'r' and the factorial of the difference between the total number of elements and the number of elements to choose '(n-r)' .\n",
    "    </p>\n",
    "\r\n",
    "</div>"
   ]
  },
  {
   "cell_type": "markdown",
   "id": "af6aa157-8a59-4cbd-882c-e1d5bb74fa7f",
   "metadata": {},
   "source": [
    "### Exercise 3: Suppose a bag contains 10 red marbles and 7 blue marbles\n",
    "- Select one marble from the bag, what is the probability of selecting a red marble?"
   ]
  },
  {
   "cell_type": "code",
   "execution_count": 8,
   "id": "a192b38e-3ed1-4c72-9ee1-486d3ed83148",
   "metadata": {},
   "outputs": [
    {
     "name": "stdout",
     "output_type": "stream",
     "text": [
      "The probability of selecting a red marble is 0.59\n"
     ]
    }
   ],
   "source": [
    "red = 10 \n",
    "blue = 7\n",
    "total = red + blue\n",
    "probability = red / total\n",
    "print(f'The probability of selecting a red marble is {probability:.2f}')"
   ]
  },
  {
   "cell_type": "markdown",
   "id": "1065f7eb-265d-4062-bc2f-7dc985d2e47b",
   "metadata": {},
   "source": [
    "- Select a blue marble, place it back to the bag and select another marble, what is the probability the second marble is blue?"
   ]
  },
  {
   "cell_type": "code",
   "execution_count": 9,
   "id": "834aac6c-5b72-4b3c-9e4f-8612bbb69e13",
   "metadata": {},
   "outputs": [
    {
     "name": "stdout",
     "output_type": "stream",
     "text": [
      "The probability of selecting a blue marble is 0.41\n"
     ]
    }
   ],
   "source": [
    "probability = blue / total\n",
    "print(f'The probability of selecting a blue marble is {probability:.2f}')"
   ]
  },
  {
   "cell_type": "markdown",
   "id": "0dd9d086-190e-41c4-95a2-ff9fdf27de44",
   "metadata": {},
   "source": [
    "- Now select a blue marble, do not replace it, and select another marble, what is the probability the second marble is blue?"
   ]
  },
  {
   "cell_type": "code",
   "execution_count": 10,
   "id": "3ac1e081-9dee-4a78-a614-c355e5e664cc",
   "metadata": {},
   "outputs": [
    {
     "name": "stdout",
     "output_type": "stream",
     "text": [
      "The probability of selecting now a blue marble is 0.44\n"
     ]
    }
   ],
   "source": [
    "probability = blue / (total - 1)\n",
    "print(f'The probability of selecting now a blue marble is {probability:.2f}')\n",
    "# since a marble has already been drawn and not replaced, the total number of marbles is now total - 1. The number of favorable outcomes (drawing \n",
    "# a blue marble), remains blue, because we are considering the scenario after the first blue marble has been drawn. So the probability is the\n",
    "# number of favorable outcomes divided by the total number of outcomes"
   ]
  }
 ],
 "metadata": {
  "kernelspec": {
   "display_name": "Python 3 (ipykernel)",
   "language": "python",
   "name": "python3"
  },
  "language_info": {
   "codemirror_mode": {
    "name": "ipython",
    "version": 3
   },
   "file_extension": ".py",
   "mimetype": "text/x-python",
   "name": "python",
   "nbconvert_exporter": "python",
   "pygments_lexer": "ipython3",
   "version": "3.11.3"
  }
 },
 "nbformat": 4,
 "nbformat_minor": 5
}
