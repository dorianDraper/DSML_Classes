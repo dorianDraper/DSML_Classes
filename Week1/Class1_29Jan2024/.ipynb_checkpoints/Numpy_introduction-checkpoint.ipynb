{
 "cells": [
  {
   "cell_type": "markdown",
   "id": "cd3d2396-ea34-47cf-a9df-9dd483ff2718",
   "metadata": {},
   "source": [
    "<h2><span style=\"font-family:Comic Sans MS; color:red; font-size: \">NumPy Exercises</span></h2>"
   ]
  },
  {
   "cell_type": "code",
   "execution_count": 1,
   "id": "2d2b376a-e7e9-4a27-ad7a-1380a0acca3d",
   "metadata": {},
   "outputs": [],
   "source": [
    "import numpy as np\n",
    "import pandas as pd"
   ]
  },
  {
   "cell_type": "markdown",
   "id": "2b6efc10-dee9-4fcb-aff7-5f17f8b0a052",
   "metadata": {},
   "source": [
    "#### Arrays\n",
    "A Numpy array is a data structure that allows you to store a collection of elements, usually numbers, in one or more dimensions.\n",
    "A one-dimensional (1D) array in Numpy is a data structure that contains a sequence of elements in a single dimension. It is similar to a list in Python:"
   ]
  },
  {
   "cell_type": "code",
   "execution_count": 8,
   "id": "347b60a9-eaf0-4097-b0fd-faeacbaaa327",
   "metadata": {},
   "outputs": [
    {
     "data": {
      "text/plain": [
       "array([ 1,  2,  3,  4,  5,  6,  7,  8,  9, 10])"
      ]
     },
     "execution_count": 8,
     "metadata": {},
     "output_type": "execute_result"
    }
   ],
   "source": [
    "# create 1D array with numbers 1-10\n",
    "my_array = np.arange(1,11)\n",
    "my_array"
   ]
  },
  {
   "cell_type": "code",
   "execution_count": 9,
   "id": "fc897d22-e9a8-4444-8271-db40de67343f",
   "metadata": {},
   "outputs": [
    {
     "data": {
      "text/plain": [
       "3"
      ]
     },
     "execution_count": 9,
     "metadata": {},
     "output_type": "execute_result"
    }
   ],
   "source": [
    "# access the third element in the array\n",
    "my_array[2]"
   ]
  },
  {
   "cell_type": "code",
   "execution_count": 10,
   "id": "65a97524-324c-42d2-b1ca-1146eeec4152",
   "metadata": {},
   "outputs": [
    {
     "data": {
      "text/plain": [
       "10"
      ]
     },
     "execution_count": 10,
     "metadata": {},
     "output_type": "execute_result"
    }
   ],
   "source": [
    "# access the last element in the array\n",
    "my_array[-1]"
   ]
  },
  {
   "cell_type": "code",
   "execution_count": 12,
   "id": "4d7b5ba3-ad4e-4353-9f3a-1ed6c8dfbe0e",
   "metadata": {},
   "outputs": [
    {
     "data": {
      "text/plain": [
       "array([ 1, 20,  3,  4,  5,  6,  7,  8,  9, 10])"
      ]
     },
     "execution_count": 12,
     "metadata": {},
     "output_type": "execute_result"
    }
   ],
   "source": [
    "# change the value of the second element to 20\n",
    "my_array[1] = 20\n",
    "my_array"
   ]
  },
  {
   "cell_type": "code",
   "execution_count": 13,
   "id": "99b16032-396a-43e8-ac24-6a65ea725884",
   "metadata": {},
   "outputs": [
    {
     "data": {
      "text/plain": [
       "array([11, 30, 13, 14, 15, 16, 17, 18, 19, 20])"
      ]
     },
     "execution_count": 13,
     "metadata": {},
     "output_type": "execute_result"
    }
   ],
   "source": [
    "# add 10 to all elements in the array\n",
    "my_array = my_array + 10\n",
    "my_array"
   ]
  },
  {
   "cell_type": "code",
   "execution_count": 16,
   "id": "d993447b-8d5a-4ada-8a9a-3fba2b851bca",
   "metadata": {},
   "outputs": [
    {
     "data": {
      "text/plain": [
       "173"
      ]
     },
     "execution_count": 16,
     "metadata": {},
     "output_type": "execute_result"
    }
   ],
   "source": [
    "# calculate the sum of all elements in the array\n",
    "np.sum(my_array)  # or sum_all = np.sum(my_array)"
   ]
  },
  {
   "cell_type": "markdown",
   "id": "89eee2f0-e65f-47c2-8381-06938bbc006f",
   "metadata": {},
   "source": [
    "A multidimensional or n-dimensional array in Numpy is a data structure that organizes elements in multiple dimensions (axes). These arrays allow you to represent more complex data structures, such as matrices (2D array, 2 axes), tensors (3D array, 3 axes) and higher dimensional structures."
   ]
  },
  {
   "cell_type": "code",
   "execution_count": 18,
   "id": "075b9e22-f170-42eb-8677-3e47d2e2e4e1",
   "metadata": {},
   "outputs": [
    {
     "data": {
      "text/plain": [
       "array([[1, 2, 3],\n",
       "       [4, 5, 6],\n",
       "       [7, 8, 9]])"
      ]
     },
     "execution_count": 18,
     "metadata": {},
     "output_type": "execute_result"
    }
   ],
   "source": [
    "# create 2D array with numbers 1-9\n",
    "my_array2 = np.arange(1,10).reshape(3,3)\n",
    "my_array2"
   ]
  },
  {
   "cell_type": "code",
   "execution_count": 19,
   "id": "13f3df2a-97fc-4edb-8595-2f4c9868b50c",
   "metadata": {},
   "outputs": [
    {
     "data": {
      "text/plain": [
       "array([[[1, 2],\n",
       "        [3, 4]],\n",
       "\n",
       "       [[5, 6],\n",
       "        [7, 8]]])"
      ]
     },
     "execution_count": 19,
     "metadata": {},
     "output_type": "execute_result"
    }
   ],
   "source": [
    "# create 3D array with numbers 1-8\n",
    "my_array3 = np.arange(1,9).reshape(2,2,2)\n",
    "my_array3"
   ]
  },
  {
   "cell_type": "code",
   "execution_count": null,
   "id": "453ec6bb-0f2f-4259-826c-2ff26846f0ce",
   "metadata": {},
   "outputs": [],
   "source": []
  },
  {
   "cell_type": "code",
   "execution_count": null,
   "id": "f6206b0c-e763-431a-8b45-3f18a0f7aaac",
   "metadata": {},
   "outputs": [],
   "source": []
  },
  {
   "cell_type": "code",
   "execution_count": null,
   "id": "8d1d0fce-b67d-4f77-8a81-a82a54915f7b",
   "metadata": {},
   "outputs": [],
   "source": []
  },
  {
   "cell_type": "code",
   "execution_count": null,
   "id": "326d7eee-c191-470d-a2e5-8f0792a7147e",
   "metadata": {},
   "outputs": [],
   "source": []
  },
  {
   "cell_type": "code",
   "execution_count": null,
   "id": "f95eeb1c-cd5f-4d87-9329-58c90e7bfdbc",
   "metadata": {},
   "outputs": [],
   "source": []
  },
  {
   "cell_type": "markdown",
   "id": "d05dd119-0029-4abf-b7e4-9e92fbf7a289",
   "metadata": {},
   "source": [
    "#### Functions"
   ]
  },
  {
   "cell_type": "code",
   "execution_count": null,
   "id": "0a567511-8f30-47b7-9388-1fc1bd84b0dc",
   "metadata": {},
   "outputs": [],
   "source": []
  },
  {
   "cell_type": "markdown",
   "id": "3a6b8074-b299-4bdc-b57f-661cac48171a",
   "metadata": {},
   "source": [
    "#### Exercises"
   ]
  },
  {
   "cell_type": "code",
   "execution_count": null,
   "id": "7b3637e1-89d9-4765-884e-cbbbee7ec67e",
   "metadata": {},
   "outputs": [],
   "source": []
  }
 ],
 "metadata": {
  "kernelspec": {
   "display_name": "Python 3 (ipykernel)",
   "language": "python",
   "name": "python3"
  },
  "language_info": {
   "codemirror_mode": {
    "name": "ipython",
    "version": 3
   },
   "file_extension": ".py",
   "mimetype": "text/x-python",
   "name": "python",
   "nbconvert_exporter": "python",
   "pygments_lexer": "ipython3",
   "version": "3.11.3"
  }
 },
 "nbformat": 4,
 "nbformat_minor": 5
}
