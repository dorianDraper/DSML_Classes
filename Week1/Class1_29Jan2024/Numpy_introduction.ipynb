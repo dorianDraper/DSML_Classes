{
 "cells": [
  {
   "cell_type": "markdown",
   "id": "cd3d2396-ea34-47cf-a9df-9dd483ff2718",
   "metadata": {},
   "source": [
    "<h2><span style=\"font-family:Comic Sans MS; color:red; font-size: \">NumPy</span></h2>"
   ]
  },
  {
   "cell_type": "code",
   "execution_count": 1,
   "id": "2d2b376a-e7e9-4a27-ad7a-1380a0acca3d",
   "metadata": {},
   "outputs": [],
   "source": [
    "import numpy as np\n",
    "import pandas as pd"
   ]
  },
  {
   "cell_type": "markdown",
   "id": "2b6efc10-dee9-4fcb-aff7-5f17f8b0a052",
   "metadata": {},
   "source": [
    "#### Arrays\n",
    "A Numpy array is a data structure that allows you to store a collection of elements, usually numbers, in one or more dimensions.\n",
    "A one-dimensional (1D) array in Numpy is a data structure that contains a sequence of elements in a single dimension. It is similar to a list in Python:"
   ]
  },
  {
   "cell_type": "code",
   "execution_count": 8,
   "id": "347b60a9-eaf0-4097-b0fd-faeacbaaa327",
   "metadata": {},
   "outputs": [
    {
     "data": {
      "text/plain": [
       "array([ 1,  2,  3,  4,  5,  6,  7,  8,  9, 10])"
      ]
     },
     "execution_count": 8,
     "metadata": {},
     "output_type": "execute_result"
    }
   ],
   "source": [
    "# create 1D array with numbers 1-10\n",
    "my_array = np.arange(1,11)\n",
    "my_array"
   ]
  },
  {
   "cell_type": "code",
   "execution_count": 9,
   "id": "fc897d22-e9a8-4444-8271-db40de67343f",
   "metadata": {},
   "outputs": [
    {
     "data": {
      "text/plain": [
       "3"
      ]
     },
     "execution_count": 9,
     "metadata": {},
     "output_type": "execute_result"
    }
   ],
   "source": [
    "# access the third element in the array\n",
    "my_array[2]"
   ]
  },
  {
   "cell_type": "code",
   "execution_count": 10,
   "id": "65a97524-324c-42d2-b1ca-1146eeec4152",
   "metadata": {},
   "outputs": [
    {
     "data": {
      "text/plain": [
       "10"
      ]
     },
     "execution_count": 10,
     "metadata": {},
     "output_type": "execute_result"
    }
   ],
   "source": [
    "# access the last element in the array\n",
    "my_array[-1]"
   ]
  },
  {
   "cell_type": "code",
   "execution_count": 12,
   "id": "4d7b5ba3-ad4e-4353-9f3a-1ed6c8dfbe0e",
   "metadata": {},
   "outputs": [
    {
     "data": {
      "text/plain": [
       "array([ 1, 20,  3,  4,  5,  6,  7,  8,  9, 10])"
      ]
     },
     "execution_count": 12,
     "metadata": {},
     "output_type": "execute_result"
    }
   ],
   "source": [
    "# change the value of the second element to 20\n",
    "my_array[1] = 20\n",
    "my_array"
   ]
  },
  {
   "cell_type": "code",
   "execution_count": 13,
   "id": "99b16032-396a-43e8-ac24-6a65ea725884",
   "metadata": {},
   "outputs": [
    {
     "data": {
      "text/plain": [
       "array([11, 30, 13, 14, 15, 16, 17, 18, 19, 20])"
      ]
     },
     "execution_count": 13,
     "metadata": {},
     "output_type": "execute_result"
    }
   ],
   "source": [
    "# add 10 to all elements in the array\n",
    "my_array = my_array + 10\n",
    "my_array"
   ]
  },
  {
   "cell_type": "code",
   "execution_count": 16,
   "id": "d993447b-8d5a-4ada-8a9a-3fba2b851bca",
   "metadata": {},
   "outputs": [
    {
     "data": {
      "text/plain": [
       "173"
      ]
     },
     "execution_count": 16,
     "metadata": {},
     "output_type": "execute_result"
    }
   ],
   "source": [
    "# calculate the sum of all elements in the array\n",
    "np.sum(my_array)  # or sum_all = np.sum(my_array)"
   ]
  },
  {
   "cell_type": "markdown",
   "id": "89eee2f0-e65f-47c2-8381-06938bbc006f",
   "metadata": {},
   "source": [
    "A multidimensional or n-dimensional array in Numpy is a data structure that organizes elements in multiple dimensions (axes). These arrays allow you to represent more complex data structures, such as matrices (2D array, 2 axes), tensors (3D array, 3 axes) and higher dimensional structures."
   ]
  },
  {
   "cell_type": "code",
   "execution_count": 18,
   "id": "075b9e22-f170-42eb-8677-3e47d2e2e4e1",
   "metadata": {},
   "outputs": [
    {
     "data": {
      "text/plain": [
       "array([[1, 2, 3],\n",
       "       [4, 5, 6],\n",
       "       [7, 8, 9]])"
      ]
     },
     "execution_count": 18,
     "metadata": {},
     "output_type": "execute_result"
    }
   ],
   "source": [
    "# create 2D array with numbers 1-9\n",
    "my_array2 = np.arange(1,10).reshape(3,3)\n",
    "my_array2"
   ]
  },
  {
   "cell_type": "code",
   "execution_count": 19,
   "id": "13f3df2a-97fc-4edb-8595-2f4c9868b50c",
   "metadata": {},
   "outputs": [
    {
     "data": {
      "text/plain": [
       "array([[[1, 2],\n",
       "        [3, 4]],\n",
       "\n",
       "       [[5, 6],\n",
       "        [7, 8]]])"
      ]
     },
     "execution_count": 19,
     "metadata": {},
     "output_type": "execute_result"
    }
   ],
   "source": [
    "# create 3D array with numbers 1-8\n",
    "my_array3 = np.arange(1,9).reshape(2,2,2)\n",
    "my_array3"
   ]
  },
  {
   "cell_type": "markdown",
   "id": "fb043d5c-fc73-4be2-b1d2-c44acff73b3f",
   "metadata": {},
   "source": [
    "#### Functions\n",
    "Numpy provides a large number of predefined functions that can be applied directly to the data structures seen above or to Python's own data structures (lists, arrays, etc.). "
   ]
  },
  {
   "cell_type": "code",
   "execution_count": 20,
   "id": "f6206b0c-e763-431a-8b45-3f18a0f7aaac",
   "metadata": {},
   "outputs": [
    {
     "data": {
      "text/plain": [
       "array([1, 2, 3, 4, 5])"
      ]
     },
     "execution_count": 20,
     "metadata": {},
     "output_type": "execute_result"
    }
   ],
   "source": [
    "# create an array for this section\n",
    "my_array_example = np.arange(1,6)\n",
    "my_array_example"
   ]
  },
  {
   "cell_type": "code",
   "execution_count": 22,
   "id": "8d1d0fce-b67d-4f77-8a81-a82a54915f7b",
   "metadata": {},
   "outputs": [
    {
     "data": {
      "text/plain": [
       "('Sum: ', array([11, 12, 13, 14, 15]))"
      ]
     },
     "execution_count": 22,
     "metadata": {},
     "output_type": "execute_result"
    }
   ],
   "source": [
    "# add 10 to all elements in the array\n",
    "'Sum: ', np.add(my_array_example, 10)"
   ]
  },
  {
   "cell_type": "code",
   "execution_count": 23,
   "id": "326d7eee-c191-470d-a2e5-8f0792a7147e",
   "metadata": {},
   "outputs": [
    {
     "data": {
      "text/plain": [
       "('Multiply by 2: ', array([ 2,  4,  6,  8, 10]))"
      ]
     },
     "execution_count": 23,
     "metadata": {},
     "output_type": "execute_result"
    }
   ],
   "source": [
    "# multiply all elements in the array by 2\n",
    "'Multiply by 2: ', np.multiply(my_array_example, 2)"
   ]
  },
  {
   "cell_type": "code",
   "execution_count": 24,
   "id": "f95eeb1c-cd5f-4d87-9329-58c90e7bfdbc",
   "metadata": {},
   "outputs": [
    {
     "data": {
      "text/plain": [
       "('Natural logarithm: ',\n",
       " array([0.        , 0.69314718, 1.09861229, 1.38629436, 1.60943791]))"
      ]
     },
     "execution_count": 24,
     "metadata": {},
     "output_type": "execute_result"
    }
   ],
   "source": [
    "# Logarithmic operations\n",
    "# Natural logarithm of all elements in the array\n",
    "'Natural logarithm: ', np.log(my_array_example)"
   ]
  },
  {
   "cell_type": "code",
   "execution_count": 25,
   "id": "ce71a355-8ede-42ce-9296-351a319fde7a",
   "metadata": {},
   "outputs": [
    {
     "data": {
      "text/plain": [
       "('Exponential: ',\n",
       " array([  2.71828183,   7.3890561 ,  20.08553692,  54.59815003,\n",
       "        148.4131591 ]))"
      ]
     },
     "execution_count": 25,
     "metadata": {},
     "output_type": "execute_result"
    }
   ],
   "source": [
    "# exponential of all elements in the array\n",
    "'Exponential: ', np.exp(my_array_example)"
   ]
  },
  {
   "cell_type": "code",
   "execution_count": 26,
   "id": "5cfe785b-3eb9-4483-bce6-a8cb8d06bf77",
   "metadata": {},
   "outputs": [
    {
     "data": {
      "text/plain": [
       "('Mean: ', 3.0)"
      ]
     },
     "execution_count": 26,
     "metadata": {},
     "output_type": "execute_result"
    }
   ],
   "source": [
    "# Statistical Functions\n",
    "# Mean of all elements in the array\n",
    "'Mean: ', np.mean(my_array_example)"
   ]
  },
  {
   "cell_type": "code",
   "execution_count": 27,
   "id": "4be37981-ce5c-4459-a670-fcd39d06e324",
   "metadata": {},
   "outputs": [
    {
     "data": {
      "text/plain": [
       "('Median: ', 3.0)"
      ]
     },
     "execution_count": 27,
     "metadata": {},
     "output_type": "execute_result"
    }
   ],
   "source": [
    "# median of all elements in the array\n",
    "'Median: ', np.median(my_array_example)"
   ]
  },
  {
   "cell_type": "code",
   "execution_count": 28,
   "id": "f2d0fdb4-326d-48e3-943c-82fc891e0ce6",
   "metadata": {},
   "outputs": [
    {
     "data": {
      "text/plain": [
       "('Standard deviation: ', 1.4142135623730951)"
      ]
     },
     "execution_count": 28,
     "metadata": {},
     "output_type": "execute_result"
    }
   ],
   "source": [
    "# standard deviation of all elements in the array\n",
    "'Standard deviation: ', np.std(my_array_example)"
   ]
  },
  {
   "cell_type": "code",
   "execution_count": 29,
   "id": "8e4ecbb4-50de-4f52-9255-6111815a0bba",
   "metadata": {},
   "outputs": [
    {
     "data": {
      "text/plain": [
       "('Variance: ', 2.0)"
      ]
     },
     "execution_count": 29,
     "metadata": {},
     "output_type": "execute_result"
    }
   ],
   "source": [
    "# variance of all elements in the array\n",
    "'Variance: ', np.var(my_array_example)"
   ]
  },
  {
   "cell_type": "code",
   "execution_count": 30,
   "id": "78e35e88-997a-4370-b648-d3a6c9e71c3a",
   "metadata": {},
   "outputs": [
    {
     "data": {
      "text/plain": [
       "('Maximum value: ', 5)"
      ]
     },
     "execution_count": 30,
     "metadata": {},
     "output_type": "execute_result"
    }
   ],
   "source": [
    "# maximum value of all elements in the array\n",
    "'Maximum value: ', np.max(my_array_example)"
   ]
  },
  {
   "cell_type": "code",
   "execution_count": 31,
   "id": "e57198d6-6b3d-4735-a7a1-7924bb7d39fc",
   "metadata": {},
   "outputs": [
    {
     "data": {
      "text/plain": [
       "('Minimum value: ', 4)"
      ]
     },
     "execution_count": 31,
     "metadata": {},
     "output_type": "execute_result"
    }
   ],
   "source": [
    "# maximum index of all elements in the array\n",
    "'Minimum value: ', np.argmax(my_array_example)"
   ]
  },
  {
   "cell_type": "code",
   "execution_count": 32,
   "id": "95b1c493-4e20-4ef2-af9b-4591be591700",
   "metadata": {},
   "outputs": [
    {
     "data": {
      "text/plain": [
       "('Minimum value: ', 1)"
      ]
     },
     "execution_count": 32,
     "metadata": {},
     "output_type": "execute_result"
    }
   ],
   "source": [
    "# minimum value of all elements in the array\n",
    "'Minimum value: ', np.min(my_array_example)"
   ]
  },
  {
   "cell_type": "code",
   "execution_count": 33,
   "id": "b278dfde-cc12-40de-90b6-3a84018b960c",
   "metadata": {},
   "outputs": [
    {
     "data": {
      "text/plain": [
       "('Minimum index: ', 0)"
      ]
     },
     "execution_count": 33,
     "metadata": {},
     "output_type": "execute_result"
    }
   ],
   "source": [
    "# minimum index of all elements in the array\n",
    "'Minimum index: ', np.argmin(my_array_example)"
   ]
  },
  {
   "cell_type": "code",
   "execution_count": 34,
   "id": "66426f45-c7d2-466e-874a-c164409d3386",
   "metadata": {},
   "outputs": [
    {
     "data": {
      "text/plain": [
       "('Sum: ', 15)"
      ]
     },
     "execution_count": 34,
     "metadata": {},
     "output_type": "execute_result"
    }
   ],
   "source": [
    "# sum of all elements in the array\n",
    "'Sum: ', np.sum(my_array_example)"
   ]
  },
  {
   "cell_type": "code",
   "execution_count": 36,
   "id": "e5dd0913-3d10-43dc-9e0b-f8509ea11bf1",
   "metadata": {},
   "outputs": [
    {
     "data": {
      "text/plain": [
       "array([1.23, 2.47, 3.56, 4.89])"
      ]
     },
     "execution_count": 36,
     "metadata": {},
     "output_type": "execute_result"
    }
   ],
   "source": [
    "# Rouding Functions\n",
    "# create decimal random array with numbers 1-5\n",
    "my_array_example2 = np.array([1.23, 2.47, 3.56, 4.89])\n",
    "my_array_example2"
   ]
  },
  {
   "cell_type": "code",
   "execution_count": 37,
   "id": "6a944184-cf88-4405-aa71-1b87860a97ab",
   "metadata": {},
   "outputs": [
    {
     "data": {
      "text/plain": [
       "('Rounding: ', array([1., 2., 4., 5.]))"
      ]
     },
     "execution_count": 37,
     "metadata": {},
     "output_type": "execute_result"
    }
   ],
   "source": [
    "# round all elements in the array\n",
    "'Rounding: ', np.round(my_array_example2)"
   ]
  },
  {
   "cell_type": "code",
   "execution_count": 38,
   "id": "764d236b-2571-43ad-809d-1d0bed3c6082",
   "metadata": {},
   "outputs": [
    {
     "data": {
      "text/plain": [
       "('Minor integer: ', array([1., 2., 3., 4.]))"
      ]
     },
     "execution_count": 38,
     "metadata": {},
     "output_type": "execute_result"
    }
   ],
   "source": [
    "# minor integer (floor) of all elements in the array\n",
    "'Minor integer: ', np.floor(my_array_example2)"
   ]
  },
  {
   "cell_type": "code",
   "execution_count": 39,
   "id": "e1e3c156-0a93-4541-97de-936fa802acf8",
   "metadata": {},
   "outputs": [
    {
     "data": {
      "text/plain": [
       "('Major integer: ', array([2., 3., 4., 5.]))"
      ]
     },
     "execution_count": 39,
     "metadata": {},
     "output_type": "execute_result"
    }
   ],
   "source": [
    "# major integer (ceil) of all elements in the array\n",
    "'Major integer: ', np.ceil(my_array_example2)"
   ]
  }
 ],
 "metadata": {
  "kernelspec": {
   "display_name": "Python 3 (ipykernel)",
   "language": "python",
   "name": "python3"
  },
  "language_info": {
   "codemirror_mode": {
    "name": "ipython",
    "version": 3
   },
   "file_extension": ".py",
   "mimetype": "text/x-python",
   "name": "python",
   "nbconvert_exporter": "python",
   "pygments_lexer": "ipython3",
   "version": "3.11.3"
  }
 },
 "nbformat": 4,
 "nbformat_minor": 5
}
