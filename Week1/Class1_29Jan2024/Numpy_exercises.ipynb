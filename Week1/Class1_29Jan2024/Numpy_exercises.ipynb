{
 "cells": [
  {
   "cell_type": "markdown",
   "id": "146cd036-21ff-4a99-a00c-dabaf28f0a6b",
   "metadata": {},
   "source": [
    "<h2><span style=\"font-family:Comic Sans MS; color:red; font-size: \">NumPy Exercises</span></h2>"
   ]
  },
  {
   "cell_type": "code",
   "execution_count": 20,
   "id": "3a599fb1-bad1-45d4-b605-7d0c266248de",
   "metadata": {},
   "outputs": [],
   "source": [
    "import numpy as np\n",
    "import pandas as pd"
   ]
  },
  {
   "cell_type": "markdown",
   "id": "a792a088-3739-410b-9b94-1448ae168bf0",
   "metadata": {},
   "source": [
    "#### Exercise 1: Create a null vector that contains 10 elements"
   ]
  },
  {
   "cell_type": "code",
   "execution_count": 21,
   "id": "709a2a79-cac4-4783-8b4a-eed752dd5227",
   "metadata": {},
   "outputs": [
    {
     "data": {
      "text/plain": [
       "array([0., 0., 0., 0., 0., 0., 0., 0., 0., 0.])"
      ]
     },
     "execution_count": 21,
     "metadata": {},
     "output_type": "execute_result"
    }
   ],
   "source": [
    "null_vector = np.zeros(10)\n",
    "null_vector"
   ]
  },
  {
   "cell_type": "markdown",
   "id": "8cce8fd6-b8d5-44f6-a08e-2a2c234a9022",
   "metadata": {},
   "source": [
    "#### Exercise 2: Create a vector of ones with 10 elements"
   ]
  },
  {
   "cell_type": "code",
   "execution_count": 22,
   "id": "cbe262d4-a99f-4d51-b24b-69a032ddc30d",
   "metadata": {},
   "outputs": [
    {
     "data": {
      "text/plain": [
       "array([1., 1., 1., 1., 1., 1., 1., 1., 1., 1.])"
      ]
     },
     "execution_count": 22,
     "metadata": {},
     "output_type": "execute_result"
    }
   ],
   "source": [
    "ones_vector = np.ones(10)\n",
    "ones_vector"
   ]
  },
  {
   "cell_type": "markdown",
   "id": "302d798c-9054-4d72-b0e9-d55c2c215cfe",
   "metadata": {},
   "source": [
    "#### Exercise 3: With the linspace function of Numpy and create an array with 10 elements"
   ]
  },
  {
   "cell_type": "code",
   "execution_count": 23,
   "id": "c76e44af-4a22-416b-941b-e2b205b6405e",
   "metadata": {},
   "outputs": [
    {
     "data": {
      "text/plain": [
       "array([ 1.,  2.,  3.,  4.,  5.,  6.,  7.,  8.,  9., 10.])"
      ]
     },
     "execution_count": 23,
     "metadata": {},
     "output_type": "execute_result"
    }
   ],
   "source": [
    "linspace_vector = np.linspace(1,10,10)\n",
    "linspace_vector"
   ]
  },
  {
   "cell_type": "markdown",
   "id": "791bf579-4e20-47f4-ba83-528aa47386e0",
   "metadata": {},
   "source": [
    "#### Exercise 4: Create arrays using random numbers functions rand, randn and randint"
   ]
  },
  {
   "cell_type": "code",
   "execution_count": 24,
   "id": "8145cd1e-fd27-4fa1-9b0e-7b15306b249d",
   "metadata": {},
   "outputs": [
    {
     "data": {
      "text/plain": [
       "('rand: ',\n",
       " array([0.69275017, 0.31964476, 0.14588218, 0.18875298, 0.90782571,\n",
       "        0.69862338, 0.81127311, 0.18736252, 0.21724152, 0.06967685]))"
      ]
     },
     "execution_count": 24,
     "metadata": {},
     "output_type": "execute_result"
    }
   ],
   "source": [
    "# rand: random numbers between 0 and 1\n",
    "rand_vector = np.random.rand(10)\n",
    "'rand: ', rand_vector"
   ]
  },
  {
   "cell_type": "code",
   "execution_count": 25,
   "id": "adeb46e0-81dc-44bc-9cd8-f4ec7be86101",
   "metadata": {},
   "outputs": [
    {
     "data": {
      "text/plain": [
       "('randn: ',\n",
       " array([[ 1.21572640e-02, -7.43296591e-02,  5.43659694e-01,\n",
       "          1.24262868e+00, -1.13339705e-01],\n",
       "        [-1.40047978e+00,  2.12584466e+00,  2.50688167e+00,\n",
       "          5.42161764e-01,  1.05793835e+00],\n",
       "        [ 5.64009614e-01,  1.19251013e-01, -9.95723867e-01,\n",
       "          6.47177330e-01, -2.37761339e-01],\n",
       "        [ 9.98542410e-01, -1.09227759e-03, -1.12422854e-01,\n",
       "          6.54270800e-01,  1.35364136e+00],\n",
       "        [ 1.48673448e+00,  1.29035393e+00, -2.98451614e+00,\n",
       "         -1.13388988e-01, -2.81806283e-01]]))"
      ]
     },
     "execution_count": 25,
     "metadata": {},
     "output_type": "execute_result"
    }
   ],
   "source": [
    "# randn: random numbers with normal distribution which have mean of 0 and standard deviation of 1\n",
    "randn_vector = np.random.randn(5,5)\n",
    "'randn: ', randn_vector"
   ]
  },
  {
   "cell_type": "code",
   "execution_count": 26,
   "id": "cb7544de-2bd5-42c6-a07c-0a82aa5a7be7",
   "metadata": {},
   "outputs": [
    {
     "data": {
      "text/plain": [
       "('randint: ',\n",
       " array([[4, 3, 3, 3, 6],\n",
       "        [5, 6, 5, 1, 8]]))"
      ]
     },
     "execution_count": 26,
     "metadata": {},
     "output_type": "execute_result"
    }
   ],
   "source": [
    "# randint: random integers between 0 and 10\n",
    "randint_vector = np.random.randint(1,10,size=(2,5))\n",
    "'randint: ', randint_vector"
   ]
  },
  {
   "cell_type": "markdown",
   "id": "89763cc6-70e5-431a-b970-c56dd791ee32",
   "metadata": {},
   "source": [
    "#### Exercise 5: Create a 5x5 identity matrix"
   ]
  },
  {
   "cell_type": "code",
   "execution_count": 27,
   "id": "33eeadca-0381-4538-b71b-b12530d97e1e",
   "metadata": {},
   "outputs": [
    {
     "data": {
      "text/plain": [
       "array([[1., 0., 0., 0., 0.],\n",
       "       [0., 1., 0., 0., 0.],\n",
       "       [0., 0., 1., 0., 0.],\n",
       "       [0., 0., 0., 1., 0.],\n",
       "       [0., 0., 0., 0., 1.]])"
      ]
     },
     "execution_count": 27,
     "metadata": {},
     "output_type": "execute_result"
    }
   ],
   "source": [
    "identity_matrix = np.eye(5)\n",
    "identity_matrix"
   ]
  },
  {
   "cell_type": "markdown",
   "id": "7f634bb3-de74-450e-b829-9021192a5446",
   "metadata": {},
   "source": [
    "#### Exercise 6: Create a 3x2 random number matrix and calculate the minimum and maximum value"
   ]
  },
  {
   "cell_type": "code",
   "execution_count": 28,
   "id": "58579440-555a-431f-b80d-ce6dbf498e52",
   "metadata": {},
   "outputs": [
    {
     "data": {
      "text/plain": [
       "array([[0.90390931, 0.55853662],\n",
       "       [0.63629955, 0.48924271],\n",
       "       [0.49942156, 0.90706496]])"
      ]
     },
     "execution_count": 28,
     "metadata": {},
     "output_type": "execute_result"
    }
   ],
   "source": [
    "random_matrix = np.random.rand(3,2)\n",
    "random_matrix"
   ]
  },
  {
   "cell_type": "code",
   "execution_count": 29,
   "id": "f04bf474-0ffe-4a9d-b402-801ba8624ac0",
   "metadata": {},
   "outputs": [
    {
     "data": {
      "text/plain": [
       "('Minimum value: ', 0.4892427100470118)"
      ]
     },
     "execution_count": 29,
     "metadata": {},
     "output_type": "execute_result"
    }
   ],
   "source": [
    "'Minimum value: ', np.min(random_matrix)"
   ]
  },
  {
   "cell_type": "code",
   "execution_count": 30,
   "id": "7d096035-e816-40af-bd63-b3ecd9557d99",
   "metadata": {},
   "outputs": [
    {
     "data": {
      "text/plain": [
       "('Maximum value: ', 0.9070649635667686)"
      ]
     },
     "execution_count": 30,
     "metadata": {},
     "output_type": "execute_result"
    }
   ],
   "source": [
    "'Maximum value: ', np.max(random_matrix)"
   ]
  },
  {
   "cell_type": "markdown",
   "id": "60313388-da5b-4756-928c-d2cd2cf7c1e5",
   "metadata": {},
   "source": [
    "#### Exercise 7: Create a vector of 30 elements that are random numbers and calculate the mean"
   ]
  },
  {
   "cell_type": "code",
   "execution_count": 31,
   "id": "6411f49a-1f2f-443f-a2ce-0510dd3dfeb3",
   "metadata": {},
   "outputs": [
    {
     "name": "stdout",
     "output_type": "stream",
     "text": [
      "[ 6  9  8 11  8 12 12 10  9  6  5  9 11 11  5  9  8 12 11  8  9 11  6 11\n",
      "  9 10  8  5 11  7]\n"
     ]
    },
    {
     "data": {
      "text/plain": [
       "('Mean value: ', 8.9)"
      ]
     },
     "execution_count": 31,
     "metadata": {},
     "output_type": "execute_result"
    }
   ],
   "source": [
    "random_vector = np.random.randint(5,13,size=30)\n",
    "print(random_vector)\n",
    "\n",
    "'Mean value: ', np.mean(random_vector)"
   ]
  },
  {
   "cell_type": "markdown",
   "id": "e7f9ba55-74f9-4792-935f-e1da9fe048a8",
   "metadata": {},
   "source": [
    "#### Exercise 8: Convert the list [1, 2, 3] and the tuple (1, 2, 3) to arrays"
   ]
  },
  {
   "cell_type": "code",
   "execution_count": 32,
   "id": "aadd7b80-3023-4328-add1-348dca68f42c",
   "metadata": {},
   "outputs": [
    {
     "data": {
      "text/plain": [
       "('list_example to array: ', array([1, 2, 3]))"
      ]
     },
     "execution_count": 32,
     "metadata": {},
     "output_type": "execute_result"
    }
   ],
   "source": [
    "list_example = [1,2,3]\n",
    "tuple_example = (1,2,3)\n",
    "'list_example to array: ', np.array(list_example)"
   ]
  },
  {
   "cell_type": "code",
   "execution_count": 33,
   "id": "04fbf89b-80c3-405d-b39a-403ed6d598d8",
   "metadata": {},
   "outputs": [
    {
     "data": {
      "text/plain": [
       "('tuple_example to array: ', array([1, 2, 3]))"
      ]
     },
     "execution_count": 33,
     "metadata": {},
     "output_type": "execute_result"
    }
   ],
   "source": [
    "'tuple_example to array: ', np.array(tuple_example)"
   ]
  },
  {
   "cell_type": "markdown",
   "id": "a6a4884d-b119-4d47-aa4a-dd74b43b6d7f",
   "metadata": {},
   "source": [
    "#### Exercise 09: Invert the vector of the previous exercise (8)"
   ]
  },
  {
   "cell_type": "code",
   "execution_count": 34,
   "id": "efe82ea8-e5ca-46e0-b2ca-b95c17020d02",
   "metadata": {},
   "outputs": [
    {
     "data": {
      "text/plain": [
       "('invert list_example: ', array([3, 2, 1]))"
      ]
     },
     "execution_count": 34,
     "metadata": {},
     "output_type": "execute_result"
    }
   ],
   "source": [
    "'invert list_example: ', np.array(list_example)[::-1]"
   ]
  },
  {
   "cell_type": "code",
   "execution_count": 35,
   "id": "cdecc8c4-87b2-4287-b0e1-3cebd9a36175",
   "metadata": {},
   "outputs": [
    {
     "data": {
      "text/plain": [
       "('now invert list_example using flip()', array([3, 2, 1]))"
      ]
     },
     "execution_count": 35,
     "metadata": {},
     "output_type": "execute_result"
    }
   ],
   "source": [
    "'now invert list_example using flip()', np.flip(list_example)"
   ]
  },
  {
   "cell_type": "markdown",
   "id": "7f407b51-4641-4f4b-a888-c519e02c9fda",
   "metadata": {},
   "source": [
    "#### Exercise 10: Change the size of a random array of dimensions 5x12 into 12x5"
   ]
  },
  {
   "cell_type": "code",
   "execution_count": 36,
   "id": "d761e49c-b265-4424-9927-a02163096a35",
   "metadata": {},
   "outputs": [
    {
     "name": "stdout",
     "output_type": "stream",
     "text": [
      "[[0.48745053 0.37163516 0.19830044 0.55092977 0.54910376 0.10730915\n",
      "  0.20998919 0.55983831 0.81044107 0.53595752 0.98887587 0.16135871]\n",
      " [0.02898454 0.58759257 0.19938749 0.39447336 0.23162641 0.40286231\n",
      "  0.02377386 0.39312764 0.85507793 0.2533901  0.71152877 0.37231372]\n",
      " [0.7319106  0.39386065 0.35744602 0.17348317 0.01341442 0.44876049\n",
      "  0.93183315 0.2639563  0.63345474 0.2964029  0.04618052 0.34567339]\n",
      " [0.19625065 0.55103641 0.8316465  0.22263772 0.32596919 0.17459069\n",
      "  0.58776654 0.54370009 0.55000016 0.78585086 0.43624521 0.12971949]\n",
      " [0.03320843 0.82561407 0.09184293 0.84904965 0.32612294 0.41506049\n",
      "  0.21694589 0.61399892 0.42085679 0.70012356 0.43420724 0.25610117]]\n"
     ]
    },
    {
     "data": {
      "text/plain": [
       "('Transponse: ',\n",
       " array([[0.48745053, 0.02898454, 0.7319106 , 0.19625065, 0.03320843],\n",
       "        [0.37163516, 0.58759257, 0.39386065, 0.55103641, 0.82561407],\n",
       "        [0.19830044, 0.19938749, 0.35744602, 0.8316465 , 0.09184293],\n",
       "        [0.55092977, 0.39447336, 0.17348317, 0.22263772, 0.84904965],\n",
       "        [0.54910376, 0.23162641, 0.01341442, 0.32596919, 0.32612294],\n",
       "        [0.10730915, 0.40286231, 0.44876049, 0.17459069, 0.41506049],\n",
       "        [0.20998919, 0.02377386, 0.93183315, 0.58776654, 0.21694589],\n",
       "        [0.55983831, 0.39312764, 0.2639563 , 0.54370009, 0.61399892],\n",
       "        [0.81044107, 0.85507793, 0.63345474, 0.55000016, 0.42085679],\n",
       "        [0.53595752, 0.2533901 , 0.2964029 , 0.78585086, 0.70012356],\n",
       "        [0.98887587, 0.71152877, 0.04618052, 0.43624521, 0.43420724],\n",
       "        [0.16135871, 0.37231372, 0.34567339, 0.12971949, 0.25610117]]))"
      ]
     },
     "execution_count": 36,
     "metadata": {},
     "output_type": "execute_result"
    }
   ],
   "source": [
    "random_matrix2 = np.random.rand(5,12)\n",
    "print(random_matrix2)\n",
    "\n",
    "'Transponse: ', random_matrix2.T\n",
    "# can also be np.transpose(random_matrix2)  or random_matrix.reshape(12,5)"
   ]
  },
  {
   "cell_type": "markdown",
   "id": "4e2e9bac-0a14-4b9c-ac4e-d12059499682",
   "metadata": {},
   "source": [
    "#### Exercise 11: Convert the list [1, 2, 0, 0, 0, 4, 0] into an array and get the index of the non-zero elements"
   ]
  },
  {
   "cell_type": "code",
   "execution_count": 37,
   "id": "164d5e41-ae19-4752-ac0c-8e616c187c26",
   "metadata": {},
   "outputs": [
    {
     "name": "stdout",
     "output_type": "stream",
     "text": [
      "List:  [1, 2, 0, 0, 0, 4, 0]\n"
     ]
    },
    {
     "data": {
      "text/plain": [
       "('Get index of non-zero elements: ', (array([0, 1, 5], dtype=int64),))"
      ]
     },
     "execution_count": 37,
     "metadata": {},
     "output_type": "execute_result"
    }
   ],
   "source": [
    "my_list = [1, 2, 0, 0, 0, 4, 0]\n",
    "print('List: ', my_list)\n",
    "\n",
    "'Get index of non-zero elements: ', np.nonzero(my_list)"
   ]
  },
  {
   "cell_type": "markdown",
   "id": "abfead64-71f3-4015-bb5d-142202b18744",
   "metadata": {},
   "source": [
    "#### Exercise 12: Convert the list [0, 5, -1, 3, 15] into an array, multiply its values by -2 and obtain the even elements\r\n"
   ]
  },
  {
   "cell_type": "code",
   "execution_count": 38,
   "id": "187ed99f-2007-460b-a895-d754f9ef323f",
   "metadata": {},
   "outputs": [
    {
     "name": "stdout",
     "output_type": "stream",
     "text": [
      "[ 0  5 -1  3 15]\n",
      "Multiply array by -2:  [  0 -10   2  -6 -30]\n",
      "Even numbers of array:  [  0 -10   2  -6 -30]\n"
     ]
    }
   ],
   "source": [
    "my_list = [0, 5, -1, 3, 15]\n",
    "\n",
    "arr = np.array(my_list)\n",
    "print(arr)\n",
    "arr = arr * -2\n",
    "print('Multiply array by -2: ', arr)\n",
    "even_numbers = arr[arr % 2 == 0]\n",
    "print('Even numbers of array: ', even_numbers)"
   ]
  },
  {
   "cell_type": "markdown",
   "id": "801d6089-a426-4f40-b5db-b1c3d7fbaf4d",
   "metadata": {},
   "source": [
    "#### Exercise 13: Create a random vector of 10 elements and order it from smallest to largest"
   ]
  },
  {
   "cell_type": "code",
   "execution_count": 41,
   "id": "d6400f20-a790-45dc-9760-e7b250232607",
   "metadata": {},
   "outputs": [
    {
     "name": "stdout",
     "output_type": "stream",
     "text": [
      "Random vector:  [90 19 93 48 89 79 92 16 61 27]\n"
     ]
    },
    {
     "data": {
      "text/plain": [
       "array([16, 19, 27, 48, 61, 79, 89, 90, 92, 93])"
      ]
     },
     "execution_count": 41,
     "metadata": {},
     "output_type": "execute_result"
    }
   ],
   "source": [
    "random_vector = np.random.randint(1,100,size=10)\n",
    "print('Random vector: ', random_vector)\n",
    "np.sort(random_vector)"
   ]
  },
  {
   "cell_type": "markdown",
   "id": "98aa798e-e03f-46d9-b7b2-2889a3d87fb4",
   "metadata": {},
   "source": [
    "#### Exercise 14: Generate two random vectors of 8 elements and apply the operations of addition, subtraction and multiplication between them"
   ]
  },
  {
   "cell_type": "code",
   "execution_count": 48,
   "id": "f93cc5df-9643-4d48-8bbc-2d434eeced3f",
   "metadata": {},
   "outputs": [
    {
     "name": "stdout",
     "output_type": "stream",
     "text": [
      "Random vector 1 = [59 69 61 66 39 98 73 70]\n",
      "Random vector 2 = [97 53 24 35 37 44 31 98]\n",
      "Sum = [156 122  85 101  76 142 104 168]\n",
      "Substraction = [-38  16  37  31   2  54  42 -28]\n",
      "Multiplication = [5723 3657 1464 2310 1443 4312 2263 6860]\n"
     ]
    }
   ],
   "source": [
    "v1 = np.random.randint(1,100,size=8)\n",
    "v2 = np.random.randint(1,100,size=8)\n",
    "print(f\"Random vector 1 = {v1}\\nRandom vector 2 = {v2}\")\n",
    "\n",
    "v_sum = v1 + v2\n",
    "v_sub = v1 - v2\n",
    "v_mult = v1 * v2\n",
    "\n",
    "print(f\"Sum = {v_sum}\\nSubstraction = {v_sub}\\nMultiplication = {v_mult}\")"
   ]
  },
  {
   "cell_type": "markdown",
   "id": "3100a9dc-5dad-4dc4-97fa-7c4db01f844b",
   "metadata": {},
   "source": [
    "#### Exercise 15: Convert the list [1, 2, 3, 4, 5, 6, 7, 8, 9, 10, 11, 12] into an array and transform it into a matrix with rows of 3 columns"
   ]
  },
  {
   "cell_type": "code",
   "execution_count": 53,
   "id": "3d1c2297-b9e3-4058-81da-1e59733fbf87",
   "metadata": {},
   "outputs": [
    {
     "name": "stdout",
     "output_type": "stream",
     "text": [
      "my_list to array:  [ 1  2  3  4  5  6  7  8  9 10 11 12]\n",
      "my_list to matrix 3x3:  [[ 1  2  3  4]\n",
      " [ 5  6  7  8]\n",
      " [ 9 10 11 12]]\n"
     ]
    }
   ],
   "source": [
    "my_list = [1, 2, 3, 4, 5, 6, 7, 8, 9, 10, 11, 12]\n",
    "print('my_list to array: ', np.array(my_list))\n",
    "print('my_list to matrix 3x3: ', np.array(my_list).reshape(3,4))"
   ]
  }
 ],
 "metadata": {
  "kernelspec": {
   "display_name": "Python 3 (ipykernel)",
   "language": "python",
   "name": "python3"
  },
  "language_info": {
   "codemirror_mode": {
    "name": "ipython",
    "version": 3
   },
   "file_extension": ".py",
   "mimetype": "text/x-python",
   "name": "python",
   "nbconvert_exporter": "python",
   "pygments_lexer": "ipython3",
   "version": "3.11.3"
  }
 },
 "nbformat": 4,
 "nbformat_minor": 5
}
