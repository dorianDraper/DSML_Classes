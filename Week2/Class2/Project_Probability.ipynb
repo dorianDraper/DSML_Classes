{
 "cells": [
  {
   "cell_type": "markdown",
   "id": "1fc5bf25-6e5c-4e3a-8319-16487a47ce5c",
   "metadata": {},
   "source": [
    "<span style=\"font-family:Comic Sans MS; color:blue; font-size: 26px\">Probability Exercises Project in Python</span>\r\n"
   ]
  },
  {
   "cell_type": "markdown",
   "id": "92c40883-1f76-43b2-bf0f-3bb73047d391",
   "metadata": {},
   "source": [
    "### Exercise 1\n",
    "\n",
    "Two dices are thrown once and the total score is observed. Use a simulation to find the estimated probability that the total score is even or greater than 7:\n",
    "\n",
    "- Run the experiment 1000 times (roll 2 dice 1000 times, and sum the number of both dices)\n",
    "- Keep track of the number of times that the sum was either greater than 7 or an even number\n",
    "- Divide the number from step 2 by the number of iterations (1000) "
   ]
  },
  {
   "cell_type": "code",
   "execution_count": 3,
   "id": "569fb297-b2eb-4b05-9190-0aace336dc64",
   "metadata": {},
   "outputs": [
    {
     "name": "stdout",
     "output_type": "stream",
     "text": [
      "{7: 177, 9: 109, 6: 135, 3: 59, 5: 107, 8: 132, 4: 92, 12: 29, 11: 52, 10: 74, 2: 34}\n",
      "Probability of the sum being greater than 7:  0.396\n",
      "Probability of the sum being an even number:  0.496\n"
     ]
    }
   ],
   "source": [
    "import numpy as np\n",
    "\n",
    "dice = [1,2,3,4,5,6]        # it represents the six faces of a die\n",
    "\n",
    "# 3 counters initialized:\n",
    "count_dices = {}            # dictionary that will keep track of the frequency of each possible sum of the dice\n",
    "count_greater_than_7 = 0    # will count how many times the sum of the dice is greater than 7\n",
    "count_even = 0              # will count how many times the sum of the dice is an even number\n",
    "\n",
    "for i in range(1000):                   # for loop runs 1000 iterations each representing a roll of two dice\n",
    "    event = np.random.choice(dice, 2)   # in each iteration, this randomly selects two numbers from dice list simulationg the roll of two dice\n",
    "    sum_event = sum(event)              # the sum of these two numbers is storeed in sum_events\n",
    "    if sum_event in count_dices:        # if sum_event is already a key in count_dices, its value is incremented by 1  \n",
    "        count_dices[sum_event] += 1     ## this can also be count_dices[sum_event] = count_dices[sum_event] + 1\n",
    "    else:\n",
    "        count_dices[sum_event] = 1      # if not, a new key-value pair is added to the dictionary with sum_event as the key and 1 as the value\n",
    "    if sum_event > 7:                   # check if sum_event is greater than 7 and if true the counter is incremented by 1\n",
    "        count_greater_than_7 += 1    \n",
    "    if sum_event % 2 == 0:              # check if sum_event is even and if true the counter is incremented by 1 \n",
    "        count_even += 1\n",
    "\n",
    "print(count_dices)\n",
    "print(\"Probability of the sum being greater than 7: \", count_greater_than_7 / 1000)\n",
    "print(\"Probability of the sum being an even number: \", count_even / 1000)\n",
    "\n",
    "# the probabilities of the sum being greater than 7 and the sum being even number are \n",
    "#calculated by dividing count_greater_than_7 and count_even by 1000"
   ]
  },
  {
   "cell_type": "markdown",
   "id": "0a5fb96b-475e-4583-a519-af76ae45e4c9",
   "metadata": {},
   "source": [
    "### Exercise 2\n",
    "A box that contains 10 white balls, 20 red balls and 30 green balls. If we take 5 balls from the box with replacement (we take the ball, observe what color it is and put it back into the box). We want to know the probability of:\n",
    "\n",
    "- Take 3 white and 2 red\n",
    "- Take all of the same color"
   ]
  },
  {
   "cell_type": "code",
   "execution_count": 5,
   "id": "fed59317-f9e1-4eef-acd5-3e29fb70f855",
   "metadata": {},
   "outputs": [
    {
     "name": "stdout",
     "output_type": "stream",
     "text": [
      "Probability of taking 3 white balls and 2 red balls:  0.066\n",
      "Probability of taking all of the same color:  0.066\n"
     ]
    }
   ],
   "source": [
    "count = 0     # this will keep track of the number of times the event occurs\n",
    "for i in range(1000):      # run 1000 iterations each representing a draw of the five balls from box\n",
    "    event = np.random.choice([\"white\",\"red\",\"green\"], 5)    # each iteration randomly selects 5 elements from list, the result stored in event\n",
    "    if np.sum(event == \"white\") == 3 and np.sum(event == \"red\") == 2:    # if event contains 3 white and 2 red then count incremented by 1\n",
    "        count += 1\n",
    "    if np.sum(event == \"white\") == 5 or np.sum(event == \"red\") == 5 or np.sum(event == \"green\") == 5:  # if event is 5 balls regardless color then +1\n",
    "        count += 1\n",
    "\n",
    "print(\"Probability of taking 3 white balls and 2 red balls: \", count / 1000)\n",
    "print(\"Probability of taking all of the same color: \", count / 1000)"
   ]
  },
  {
   "cell_type": "code",
   "execution_count": 6,
   "id": "6bb258a5-7748-4c1d-87c0-8fa1fc0f2374",
   "metadata": {},
   "outputs": [],
   "source": [
    "# another way of doing the above would be \n",
    "count = 0\n",
    "for i in range(1000):\n",
    "    event = np.random.choice([\"white\", \"red\", \"green\"], 5)\n",
    "    if list(event).count(\"white\") == 3 and list(event).count(\"red\") == 2:\n",
    "        count += 1\n",
    "    if list(event).count(\"white\") == 5 or list(event).count(\"red\") == 5 or list(event).count(\"green\") == 5:\n",
    "        count += 1"
   ]
  }
 ],
 "metadata": {
  "kernelspec": {
   "display_name": "Python 3 (ipykernel)",
   "language": "python",
   "name": "python3"
  },
  "language_info": {
   "codemirror_mode": {
    "name": "ipython",
    "version": 3
   },
   "file_extension": ".py",
   "mimetype": "text/x-python",
   "name": "python",
   "nbconvert_exporter": "python",
   "pygments_lexer": "ipython3",
   "version": "3.11.3"
  }
 },
 "nbformat": 4,
 "nbformat_minor": 5
}
