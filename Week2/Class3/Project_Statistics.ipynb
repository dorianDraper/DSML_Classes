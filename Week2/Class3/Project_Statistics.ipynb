{
 "cells": [
  {
   "cell_type": "markdown",
   "id": "3c5bd533-5d54-4820-a8fa-04ae90693843",
   "metadata": {},
   "source": [
    "<span style=\"font-family:Comic Sans MS; color:blue; font-size: 26px\">Descriptive Statistics Exercises Project with Python</span>"
   ]
  },
  {
   "cell_type": "markdown",
   "id": "aeb08284-4c99-4e09-8f87-6d7e4c5ac592",
   "metadata": {},
   "source": [
    "### Exercise 1\n",
    "- Generate an array of 100 elements following a normal distribution\n",
    "- Generate an array of 100 elements following a chi-square distribution with 3 degrees of freedom (df)\n",
    "- Calculate the main metrics and statistical measures that best describe the two vectors"
   ]
  },
  {
   "cell_type": "code",
   "execution_count": 4,
   "id": "b81045b0-7aec-4db0-baf7-720124ef4ca5",
   "metadata": {},
   "outputs": [
    {
     "name": "stdout",
     "output_type": "stream",
     "text": [
      "Mean of array_1:  -0.046788567657452124\n",
      "Mean of array_2:  3.076766003215928\n",
      "**************************************************\n",
      "Median of array_1:  -0.09685395752076748\n",
      "Median of array_2:  2.7251015588346927\n",
      "**************************************************\n",
      "Mode of array_1:  -0.7203528320787526\n",
      "Mode of array_2:  6.068364463380195\n",
      "**************************************************\n",
      "Variance of array_1:  0.8310050676935126\n",
      "Variance of array_2:  4.668597667945736\n",
      "**************************************************\n",
      "Standard Deviation of array_1:  0.9115947935862252\n",
      "Standard Deviation of array_2:  2.16069379319369\n",
      "**************************************************\n",
      "Range of array_1:  4.85635799358694\n",
      "Range of array_2:  10.922790984410568\n"
     ]
    }
   ],
   "source": [
    "import numpy as np\n",
    "import statistics as stats\n",
    "\n",
    "array_1 = np.random.normal(0,1,100)    # takes 3 arguments array of 100 elements size following normal distribution with a mean of 0 and std of 1\n",
    "array_2 = np.random.chisquare(3,100)   # takes argument 3 df and 100 random numbers as size\n",
    "\n",
    "print('Mean of array_1: ', np.mean(array_1))\n",
    "print('Mean of array_2: ', np.mean(array_2))\n",
    "print('*' * 50)\n",
    "print('Median of array_1: ', np.median(array_1))\n",
    "print('Median of array_2: ', np.median(array_2))\n",
    "print('*' * 50)\n",
    "print('Mode of array_1: ', stats.mode(array_1))\n",
    "print('Mode of array_2: ', stats.mode(array_2))\n",
    "print('*' * 50)\n",
    "print('Variance of array_1: ', np.var(array_1))\n",
    "print('Variance of array_2: ', np.var(array_2))\n",
    "print('*' * 50)\n",
    "print('Standard Deviation of array_1: ', np.std(array_1))\n",
    "print('Standard Deviation of array_2: ', np.std(array_2))\n",
    "print('*' * 50)\n",
    "print('Range of array_1: ', np.max(array_1) - np.min(array_1))\n",
    "print('Range of array_2: ', np.max(array_2) - np.min(array_2))"
   ]
  },
  {
   "cell_type": "markdown",
   "id": "761348fd-d0be-4ca5-9e15-c0c09a20409d",
   "metadata": {},
   "source": [
    "### Exercise 2\n",
    "Write a Python program to calculate the standard deviation of the followin data:"
   ]
  },
  {
   "cell_type": "code",
   "execution_count": 8,
   "id": "177df20e-dff4-485d-9235-87af2cfc1c82",
   "metadata": {},
   "outputs": [
    {
     "name": "stdout",
     "output_type": "stream",
     "text": [
      "Standard Deviation of data:  2.0\n"
     ]
    }
   ],
   "source": [
    "data = [4,2,5,8,6]\n",
    "\n",
    "def std_deviation(data):\n",
    "    mean = sum(data) / len(data)    # mean calculated by summing (sum) all numbers in dataset and dividing by the count of numbers in data set (len)\n",
    "    variance = sum((x - mean) ** 2 for x in data) / len(data)  # average of squared differences from the mean, done by substracting mean from each number\n",
    "    return variance ** 0.5                                     # in datase, squaring the result and then averaging these squared differences \n",
    "\n",
    "print(\"Standard Deviation of data: \", std_deviation(data))\n",
    "\n",
    "# the same as above but using numpy\n",
    "def std_deviation(data):\n",
    "    return np.std(data)"
   ]
  },
  {
   "cell_type": "markdown",
   "id": "a98db491-0353-404c-bb15-9c7556d13e3a",
   "metadata": {},
   "source": [
    "<div class=\"alert alert-block alert-info\">\r\n",
    "<b>Tip:</b>The standard deviation is a mesaures of the amount of variation or dispersion in a set of values.\n",
    "A low standard variation means that the values tend to be close to the mean (average) of the set, while a high \n",
    "standard variation means that the values are spread out over a wider range.\n",
    ".</div>"
   ]
  },
  {
   "cell_type": "code",
   "execution_count": null,
   "id": "3105f739-ce68-4e8f-846b-f6c124f89a62",
   "metadata": {},
   "outputs": [],
   "source": []
  }
 ],
 "metadata": {
  "kernelspec": {
   "display_name": "Python 3 (ipykernel)",
   "language": "python",
   "name": "python3"
  },
  "language_info": {
   "codemirror_mode": {
    "name": "ipython",
    "version": 3
   },
   "file_extension": ".py",
   "mimetype": "text/x-python",
   "name": "python",
   "nbconvert_exporter": "python",
   "pygments_lexer": "ipython3",
   "version": "3.11.3"
  }
 },
 "nbformat": 4,
 "nbformat_minor": 5
}
